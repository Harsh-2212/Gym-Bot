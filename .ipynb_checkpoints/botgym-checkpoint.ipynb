{
 "cells": [
  {
   "cell_type": "code",
   "execution_count": 4,
   "metadata": {},
   "outputs": [],
   "source": [
    "import pandas as pd\n",
    "from sklearn.feature_extraction.text import TfidfVectorizer\n",
    "from sklearn.model_selection import train_test_split\n",
    "import numpy as np\n",
    "from tensorflow.keras.models import Sequential\n",
    "from tensorflow.keras.layers import Dense\n",
    "from tensorflow.keras.utils import to_categorical\n",
    "import nltk\n",
    "from nltk.tokenize import word_tokenize\n",
    "from nltk.corpus import stopwords\n",
    "from nltk.stem import WordNetLemmatizer\n"
   ]
  },
  {
   "cell_type": "code",
   "execution_count": 5,
   "metadata": {},
   "outputs": [
    {
     "name": "stdout",
     "output_type": "stream",
     "text": [
      "          Exercise Name             Equipment Variation             Utility  \\\n",
      "0          Neck Flexion                 Cable        No  Basic or Auxiliary   \n",
      "1          Neck Flexion  Lever (plate loaded)        No  Basic or Auxiliary   \n",
      "2  Lateral Neck Flexion  Lever (plate loaded)        No           Auxiliary   \n",
      "3          Neck Flexion  Lever (selectorized)        No  Basic or Auxiliary   \n",
      "4  Lateral Neck Flexion  Lever (selectorized)        No           Auxiliary   \n",
      "\n",
      "  Mechanics Force                                        Preparation  \\\n",
      "0  Isolated  Pull  Sit on bench facing away from middle pulley. P...   \n",
      "1  Isolated  Pull  Sit on seat in machine. Position padded lever ...   \n",
      "2  Isolated  Pull  Sit on seat in machine with feet apart   . Pos...   \n",
      "3  Isolated  Pull  Sit on seat in machine. Position padded lever ...   \n",
      "4  Isolated  Pull  Sit on seat in machine with feet apart. Positi...   \n",
      "\n",
      "                                           Execution        Target_Muscles  \\\n",
      "0  Move head away from pulley by bending neck for...  Sternocleidomastoid,   \n",
      "1  Move head forward by flexing neck until chin t...  Sternocleidomastoid,   \n",
      "2  Move head down to side by laterally flexing ne...  Sternocleidomastoid,   \n",
      "3  Move head forward by flexing neck until chin t...  Sternocleidomastoid,   \n",
      "4  Move head down to side by laterally flexing ne...  Sternocleidomastoid,   \n",
      "\n",
      "                                   Synergist_Muscles  \\\n",
      "0                                             None,    \n",
      "1                                             None,    \n",
      "2  Splenius, Erector Spinae, Levator Scapulae, Tr...   \n",
      "3                                             None,    \n",
      "4  Splenius, Erector Spinae, Levator Scapulae, Tr...   \n",
      "\n",
      "                                  Stabilizer_Muscles Antagonist_Muscles  \\\n",
      "0                       Rectus Abdominis, Obliques,                 NaN   \n",
      "1  Latissimus Dorsi, Deltoid, Posterior, Rhomboid...                NaN   \n",
      "2  Latissimus Dorsi, Pectoralis Major, Sternal, P...                NaN   \n",
      "3  Latissimus Dorsi, Deltoid, Posterior, Rhomboid...                NaN   \n",
      "4  Latissimus Dorsi, Pectoralis Major, Sternal, P...                NaN   \n",
      "\n",
      "  Dynamic_Stabilizer_Muscles Main_muscle  Difficulty (1-5)  \\\n",
      "0                        NaN        Neck                 2   \n",
      "1                        NaN        Neck                 2   \n",
      "2                        NaN        Neck                 2   \n",
      "3                        NaN        Neck                 2   \n",
      "4                        NaN        Neck                 2   \n",
      "\n",
      "                       Secondary Muscles  parent_id  \n",
      "0                    Sternocleidomastoid        NaN  \n",
      "1                    Sternocleidomastoid        NaN  \n",
      "2  Sternocleidomastoid, Levator Scapulae        NaN  \n",
      "3                    Sternocleidomastoid        NaN  \n",
      "4  Sternocleidomastoid, Levator Scapulae        NaN  \n"
     ]
    }
   ],
   "source": [
    "df = pd.read_csv(\"gym_exercise_dataset.csv\")\n",
    "print(df.head())"
   ]
  },
  {
   "cell_type": "code",
   "execution_count": 6,
   "metadata": {},
   "outputs": [
    {
     "name": "stderr",
     "output_type": "stream",
     "text": [
      "[nltk_data] Downloading package punkt to C:\\Users\\Harsh\n",
      "[nltk_data]     Vishwakarma\\AppData\\Roaming\\nltk_data...\n",
      "[nltk_data]   Package punkt is already up-to-date!\n",
      "[nltk_data] Downloading package wordnet to C:\\Users\\Harsh\n",
      "[nltk_data]     Vishwakarma\\AppData\\Roaming\\nltk_data...\n",
      "[nltk_data]   Package wordnet is already up-to-date!\n",
      "[nltk_data] Downloading package stopwords to C:\\Users\\Harsh\n",
      "[nltk_data]     Vishwakarma\\AppData\\Roaming\\nltk_data...\n",
      "[nltk_data]   Package stopwords is already up-to-date!\n"
     ]
    },
    {
     "data": {
      "text/plain": [
       "True"
      ]
     },
     "execution_count": 6,
     "metadata": {},
     "output_type": "execute_result"
    }
   ],
   "source": [
    "nltk.download('punkt')\n",
    "nltk.download('wordnet')\n",
    "nltk.download('stopwords')"
   ]
  },
  {
   "cell_type": "code",
   "execution_count": 7,
   "metadata": {},
   "outputs": [],
   "source": [
    "lemmatizer = WordNetLemmatizer()\n",
    "stop_words = set(stopwords.words('english'))"
   ]
  },
  {
   "cell_type": "code",
   "execution_count": 8,
   "metadata": {},
   "outputs": [],
   "source": [
    "def preprocess_user_input(user_input):\n",
    "    tokens = word_tokenize(user_input.lower())\n",
    "    processed_tokens = [lemmatizer.lemmatize(word) for word in tokens if word not in stop_words]\n",
    "    return \" \".join(processed_tokens)"
   ]
  },
  {
   "cell_type": "code",
   "execution_count": 9,
   "metadata": {},
   "outputs": [],
   "source": [
    "X_train = [\n",
    "    \"Can you suggest some exercises for my chest?\",\n",
    "    \"Design a workout routine for muscle gain in 3 months\",\n",
    "    \"I want to lose weight quickly\",\n",
    "    \"What should I do to build muscle?\",\n",
    "    \"Give me a cardio workout plan\",\n",
    "    \"How to gain muscle effectively?\",\n",
    "    \"Create a leg workout for strength\",\n",
    "    \"Suggest a back workout\",\n",
    "    \"What are some good chest exercises?\",\n",
    "    \"How can I improve my endurance?\",\n",
    "    \"daily workout schedule for gym\",\n",
    "    \"What is a good routine for daily gym workouts?\",\n",
    "    \"suggest a gym workout schedule\",\n",
    "    \"gym workout routine to gain muscle\"\n",
    "]\n",
    "\n",
    "y_train = [\n",
    "    \"chest\",\n",
    "    \"muscle_gain\",\n",
    "    \"weight_loss\",\n",
    "    \"muscle_building\",\n",
    "    \"cardio\",\n",
    "    \"muscle_building\",\n",
    "    \"legs\",\n",
    "    \"back\",\n",
    "    \"chest\",\n",
    "    \"endurance\",\n",
    "    \"daily_schedule\",\n",
    "    \"daily_schedule\",\n",
    "    \"daily_schedule\",\n",
    "    \"muscle_gain\"\n",
    "]"
   ]
  },
  {
   "cell_type": "code",
   "execution_count": 10,
   "metadata": {},
   "outputs": [],
   "source": [
    "X_train_processed = [preprocess_user_input(query) for query in X_train]"
   ]
  },
  {
   "cell_type": "code",
   "execution_count": 11,
   "metadata": {},
   "outputs": [],
   "source": [
    "tfidf = TfidfVectorizer(ngram_range=(1, 3))  # This captures unigrams, bigrams, and trigrams\n",
    "X_vectors = tfidf.fit_transform(X_train_processed).toarray()"
   ]
  },
  {
   "cell_type": "code",
   "execution_count": 12,
   "metadata": {},
   "outputs": [],
   "source": [
    "labels = list(set(y_train))  # Unique classes\n",
    "y_train_categorical = [labels.index(label) for label in y_train]\n",
    "y_train_categorical = to_categorical(y_train_categorical)"
   ]
  },
  {
   "cell_type": "code",
   "execution_count": 13,
   "metadata": {},
   "outputs": [],
   "source": [
    "X_train_split, X_test_split, y_train_split, y_test_split = train_test_split(X_vectors, y_train_categorical, test_size=0.2, random_state=42)"
   ]
  },
  {
   "cell_type": "code",
   "execution_count": 14,
   "metadata": {},
   "outputs": [
    {
     "name": "stderr",
     "output_type": "stream",
     "text": [
      "c:\\Users\\Harsh Vishwakarma\\AppData\\Local\\Programs\\Python\\Python311\\Lib\\site-packages\\keras\\src\\layers\\core\\dense.py:87: UserWarning: Do not pass an `input_shape`/`input_dim` argument to a layer. When using Sequential models, prefer using an `Input(shape)` object as the first layer in the model instead.\n",
      "  super().__init__(activity_regularizer=activity_regularizer, **kwargs)\n"
     ]
    }
   ],
   "source": [
    "model = Sequential()\n",
    "model.add(Dense(128, activation='relu', input_dim=X_train_split.shape[1]))  # Input layer\n",
    "model.add(Dense(64, activation='relu'))  # Hidden layer\n",
    "model.add(Dense(32, activation='relu'))  # Hidden layer\n",
    "model.add(Dense(len(labels), activation='softmax'))"
   ]
  },
  {
   "cell_type": "code",
   "execution_count": 15,
   "metadata": {},
   "outputs": [],
   "source": [
    "model.compile(optimizer='adam', loss='categorical_crossentropy', metrics=['accuracy'])"
   ]
  },
  {
   "cell_type": "code",
   "execution_count": 16,
   "metadata": {},
   "outputs": [
    {
     "name": "stdout",
     "output_type": "stream",
     "text": [
      "Epoch 1/10\n",
      "\u001b[1m3/3\u001b[0m \u001b[32m━━━━━━━━━━━━━━━━━━━━\u001b[0m\u001b[37m\u001b[0m \u001b[1m5s\u001b[0m 382ms/step - accuracy: 0.0767 - loss: 2.2133 - val_accuracy: 0.0000e+00 - val_loss: 2.1895\n",
      "Epoch 2/10\n",
      "\u001b[1m3/3\u001b[0m \u001b[32m━━━━━━━━━━━━━━━━━━━━\u001b[0m\u001b[37m\u001b[0m \u001b[1m0s\u001b[0m 62ms/step - accuracy: 0.3551 - loss: 2.1632 - val_accuracy: 0.0000e+00 - val_loss: 2.1950\n",
      "Epoch 3/10\n",
      "\u001b[1m3/3\u001b[0m \u001b[32m━━━━━━━━━━━━━━━━━━━━\u001b[0m\u001b[37m\u001b[0m \u001b[1m0s\u001b[0m 41ms/step - accuracy: 0.4006 - loss: 2.1339 - val_accuracy: 0.0000e+00 - val_loss: 2.1968\n",
      "Epoch 4/10\n",
      "\u001b[1m3/3\u001b[0m \u001b[32m━━━━━━━━━━━━━━━━━━━━\u001b[0m\u001b[37m\u001b[0m \u001b[1m0s\u001b[0m 41ms/step - accuracy: 0.6307 - loss: 2.0978 - val_accuracy: 0.0000e+00 - val_loss: 2.1936\n",
      "Epoch 5/10\n",
      "\u001b[1m3/3\u001b[0m \u001b[32m━━━━━━━━━━━━━━━━━━━━\u001b[0m\u001b[37m\u001b[0m \u001b[1m0s\u001b[0m 43ms/step - accuracy: 0.6619 - loss: 2.0774 - val_accuracy: 0.3333 - val_loss: 2.1913\n",
      "Epoch 6/10\n",
      "\u001b[1m3/3\u001b[0m \u001b[32m━━━━━━━━━━━━━━━━━━━━\u001b[0m\u001b[37m\u001b[0m \u001b[1m0s\u001b[0m 36ms/step - accuracy: 0.7699 - loss: 2.0507 - val_accuracy: 0.3333 - val_loss: 2.1887\n",
      "Epoch 7/10\n",
      "\u001b[1m3/3\u001b[0m \u001b[32m━━━━━━━━━━━━━━━━━━━━\u001b[0m\u001b[37m\u001b[0m \u001b[1m0s\u001b[0m 38ms/step - accuracy: 0.6761 - loss: 2.0230 - val_accuracy: 0.3333 - val_loss: 2.1889\n",
      "Epoch 8/10\n",
      "\u001b[1m3/3\u001b[0m \u001b[32m━━━━━━━━━━━━━━━━━━━━\u001b[0m\u001b[37m\u001b[0m \u001b[1m0s\u001b[0m 45ms/step - accuracy: 0.9233 - loss: 1.9523 - val_accuracy: 0.3333 - val_loss: 2.1859\n",
      "Epoch 9/10\n",
      "\u001b[1m3/3\u001b[0m \u001b[32m━━━━━━━━━━━━━━━━━━━━\u001b[0m\u001b[37m\u001b[0m \u001b[1m0s\u001b[0m 39ms/step - accuracy: 0.9545 - loss: 1.9317 - val_accuracy: 0.3333 - val_loss: 2.1816\n",
      "Epoch 10/10\n",
      "\u001b[1m3/3\u001b[0m \u001b[32m━━━━━━━━━━━━━━━━━━━━\u001b[0m\u001b[37m\u001b[0m \u001b[1m0s\u001b[0m 42ms/step - accuracy: 1.0000 - loss: 1.8968 - val_accuracy: 0.3333 - val_loss: 2.1773\n"
     ]
    },
    {
     "data": {
      "text/plain": [
       "<keras.src.callbacks.history.History at 0x1759c811f50>"
      ]
     },
     "execution_count": 16,
     "metadata": {},
     "output_type": "execute_result"
    }
   ],
   "source": [
    "model.fit(X_train_split, y_train_split, epochs=10, batch_size=4, validation_data=(X_test_split, y_test_split))"
   ]
  },
  {
   "cell_type": "code",
   "execution_count": 17,
   "metadata": {},
   "outputs": [
    {
     "name": "stderr",
     "output_type": "stream",
     "text": [
      "WARNING:absl:You are saving your model as an HDF5 file via `model.save()` or `keras.saving.save_model(model)`. This file format is considered legacy. We recommend using instead the native Keras format, e.g. `model.save('my_model.keras')` or `keras.saving.save_model(model, 'my_model.keras')`. \n"
     ]
    },
    {
     "data": {
      "text/plain": [
       "['tfidf_vectorizer.pkl']"
      ]
     },
     "execution_count": 17,
     "metadata": {},
     "output_type": "execute_result"
    }
   ],
   "source": [
    "model.save('gym_nn_model.h5')\n",
    "import joblib\n",
    "joblib.dump(tfidf, 'tfidf_vectorizer.pkl')"
   ]
  },
  {
   "cell_type": "code",
   "execution_count": 18,
   "metadata": {},
   "outputs": [
    {
     "name": "stdout",
     "output_type": "stream",
     "text": [
      "Model and vectorizer saved.\n"
     ]
    }
   ],
   "source": [
    "print(\"Model and vectorizer saved.\")"
   ]
  },
  {
   "cell_type": "code",
   "execution_count": 19,
   "metadata": {},
   "outputs": [],
   "source": [
    "workout_responses = {\n",
    "    \"chest\": \"Here's a chest workout: Bench press, Push-ups, Chest fly. Other exercises include Incline Bench Press, Dips, and Cable Crossovers.\",\n",
    "    \"muscle_gain\": \"For muscle gain, follow this 3-month routine: Monday - Chest and triceps, Wednesday - Back and biceps, Friday - Legs and shoulders. Also include compound exercises like Squats and Deadlifts.\",\n",
    "    \"weight_loss\": \"For weight loss, try this: 30 minutes of cardio 5 times a week and strength training 3 times a week. Also include HIIT workouts for faster results.\",\n",
    "    \"muscle_building\": \"Here's a muscle building routine: Compound lifts 4 times a week focusing on progressive overload. Include Deadlifts, Bench Press, and Squats for better results.\",\n",
    "    \"cardio\": \"Here’s a cardio workout plan: 20-30 minutes of jogging or cycling at least 4 times a week. You can also mix it up with swimming or rowing.\",\n",
    "    \"legs\": \"A good leg workout includes Squats, Lunges, and Leg Press. You can also add Bulgarian Split Squats and Deadlifts.\",\n",
    "    \"back\": \"Try these back exercises: Pull-ups, Rows, and Deadlifts. Other good exercises are Lat Pulldowns and T-bar Rows.\",\n",
    "    \"endurance\": \"For endurance, combine long runs with interval training. You can also incorporate cycling and swimming to improve stamina.\",\n",
    "    \"daily_schedule\": \"Here's a daily gym workout schedule: \\n- Monday: Chest and Triceps \\n- Tuesday: Back and Biceps \\n- Wednesday: Rest \\n- Thursday: Legs \\n- Friday: Shoulders and Abs \\n- Saturday: Cardio \\n- Sunday: Rest.\"\n",
    "}"
   ]
  },
  {
   "cell_type": "code",
   "execution_count": 20,
   "metadata": {},
   "outputs": [],
   "source": [
    "def get_workout_response(user_input):\n",
    "    processed_input = preprocess_user_input(user_input)\n",
    "    input_vector = tfidf.transform([processed_input]).toarray()\n",
    "    prediction = model.predict(input_vector)\n",
    "    predicted_label = labels[np.argmax(prediction)]\n",
    "    \n",
    "    response = workout_responses.get(predicted_label, \"Sorry, I don't have a workout plan for that.\")\n",
    "    \n",
    "    return response"
   ]
  },
  {
   "cell_type": "code",
   "execution_count": 21,
   "metadata": {},
   "outputs": [
    {
     "name": "stdout",
     "output_type": "stream",
     "text": [
      "\u001b[1m1/1\u001b[0m \u001b[32m━━━━━━━━━━━━━━━━━━━━\u001b[0m\u001b[37m\u001b[0m \u001b[1m0s\u001b[0m 164ms/step\n",
      "For muscle gain, follow this 3-month routine: Monday - Chest and triceps, Wednesday - Back and biceps, Friday - Legs and shoulders. Also include compound exercises like Squats and Deadlifts.\n"
     ]
    }
   ],
   "source": [
    "user_input = \"Design me a routine workout to gain and build some muscles in 3 months.\"\n",
    "response = get_workout_response(user_input)\n",
    "print(response)"
   ]
  },
  {
   "cell_type": "code",
   "execution_count": 22,
   "metadata": {},
   "outputs": [
    {
     "name": "stdout",
     "output_type": "stream",
     "text": [
      "\u001b[1m1/1\u001b[0m \u001b[32m━━━━━━━━━━━━━━━━━━━━\u001b[0m\u001b[37m\u001b[0m \u001b[1m0s\u001b[0m 63ms/step\n",
      "Here's a muscle building routine: Compound lifts 4 times a week focusing on progressive overload. Include Deadlifts, Bench Press, and Squats for better results.\n"
     ]
    }
   ],
   "source": [
    "user_input = \"suggest workout to lose fat.\"\n",
    "response = get_workout_response(user_input)\n",
    "print(response)"
   ]
  },
  {
   "cell_type": "code",
   "execution_count": 23,
   "metadata": {},
   "outputs": [
    {
     "name": "stdout",
     "output_type": "stream",
     "text": [
      "\u001b[1m1/1\u001b[0m \u001b[32m━━━━━━━━━━━━━━━━━━━━\u001b[0m\u001b[37m\u001b[0m \u001b[1m0s\u001b[0m 85ms/step\n",
      "Here's a daily gym workout schedule: \n",
      "- Monday: Chest and Triceps \n",
      "- Tuesday: Back and Biceps \n",
      "- Wednesday: Rest \n",
      "- Thursday: Legs \n",
      "- Friday: Shoulders and Abs \n",
      "- Saturday: Cardio \n",
      "- Sunday: Rest.\n"
     ]
    }
   ],
   "source": [
    "user_input = \"daily workout schedule for gym\"\n",
    "response = get_workout_response(user_input)\n",
    "print(response)"
   ]
  },
  {
   "cell_type": "code",
   "execution_count": 24,
   "metadata": {},
   "outputs": [
    {
     "name": "stdout",
     "output_type": "stream",
     "text": [
      "\u001b[1m1/1\u001b[0m \u001b[32m━━━━━━━━━━━━━━━━━━━━\u001b[0m\u001b[37m\u001b[0m \u001b[1m0s\u001b[0m 70ms/step\n",
      "Here's a daily gym workout schedule: \n",
      "- Monday: Chest and Triceps \n",
      "- Tuesday: Back and Biceps \n",
      "- Wednesday: Rest \n",
      "- Thursday: Legs \n",
      "- Friday: Shoulders and Abs \n",
      "- Saturday: Cardio \n",
      "- Sunday: Rest.\n"
     ]
    }
   ],
   "source": [
    "user_input = \"Schedule my daily routine for gym\"\n",
    "response = get_workout_response(user_input)\n",
    "print(response)"
   ]
  }
 ],
 "metadata": {
  "kernelspec": {
   "display_name": "Python 3",
   "language": "python",
   "name": "python3"
  },
  "language_info": {
   "codemirror_mode": {
    "name": "ipython",
    "version": 3
   },
   "file_extension": ".py",
   "mimetype": "text/x-python",
   "name": "python",
   "nbconvert_exporter": "python",
   "pygments_lexer": "ipython3",
   "version": "3.11.0"
  }
 },
 "nbformat": 4,
 "nbformat_minor": 2
}
